{
  "nbformat": 4,
  "nbformat_minor": 0,
  "metadata": {
    "colab": {
      "provenance": [],
      "authorship_tag": "ABX9TyO8FnlEw1Vv7gp5V41R5fHg",
      "include_colab_link": true
    },
    "kernelspec": {
      "name": "python3",
      "display_name": "Python 3"
    },
    "language_info": {
      "name": "python"
    }
  },
  "cells": [
    {
      "cell_type": "markdown",
      "metadata": {
        "id": "view-in-github",
        "colab_type": "text"
      },
      "source": [
        "<a href=\"https://colab.research.google.com/github/KennedyNanga/Maths-for-AI-coding-Assignment-1/blob/main/Coding%20assignment%201.ipynb\" target=\"_parent\"><img src=\"https://colab.research.google.com/assets/colab-badge.svg\" alt=\"Open In Colab\"/></a>"
      ]
    },
    {
      "cell_type": "code",
      "execution_count": 8,
      "metadata": {
        "colab": {
          "base_uri": "https://localhost:8080/",
          "height": 0
        },
        "id": "Hn5flPdIm5m2",
        "outputId": "a9744fb6-682e-4ae5-a1dc-d3e2611db989"
      },
      "outputs": [
        {
          "output_type": "stream",
          "name": "stdout",
          "text": [
            "[82, 15, 4, 95, 36]\n"
          ]
        }
      ],
      "source": [
        "#python code\n",
        "#Write code that generates five random numbers between 1 and 100 and prints them. Use a random seed of 42.\n",
        "import random\n",
        "\n",
        "#random seed (42)\n",
        "random.seed(42)\n",
        "\n",
        "#gen random 5 random numbers between 1 and 100\n",
        "random_numbers = [random.randint(1, 100) for _ in range(5)]\n",
        "print(random_numbers)\n",
        "\n"
      ]
    },
    {
      "cell_type": "code",
      "source": [
        "def remove_duplicates_and_sort(numbers):\n",
        "    return sorted(set(numbers))\n",
        "print(sorted)\n",
        "# example\n",
        "numbers = [5, 2, 9, 2, 3, 7, 8, 3, 6, 4]\n",
        "result = remove_duplicates_and_sort(numbers)\n",
        "print(result)  # Output: [[2, 3, 4, 5, 6, 7, 8, 9]\n",
        "result.append([15, 20, 25])"
      ],
      "metadata": {
        "colab": {
          "base_uri": "https://localhost:8080/",
          "height": 0
        },
        "id": "fuRcfKRosQ1x",
        "outputId": "d64cf14e-0132-42b3-f2d3-180c370b6d81"
      },
      "execution_count": 32,
      "outputs": [
        {
          "output_type": "stream",
          "name": "stdout",
          "text": [
            "<built-in function sorted>\n",
            "[2, 3, 4, 5, 6, 7, 8, 9]\n"
          ]
        }
      ]
    },
    {
      "cell_type": "code",
      "source": [
        "def factorial(n):\n",
        "    \"\"\"factorial of a number. Modify the function to include error handling, ensuring the user inputs a valid positive integer.\"\"\"\n",
        "    if not isinstance(n, int):  # Check if input is an integer number\n",
        "        raise ValueError(\"Input must be an integer.\")\n",
        "    if n < 0:  # Check if input is non-negative\n",
        "        raise ValueError(\"Input must be a positive integer.\")\n",
        "\n",
        "    result = 1\n",
        "    for i in range(1, n + 1):\n",
        "        result *= i\n",
        "    return result\n",
        "\n",
        "# Example\n",
        "print(factorial(5))"
      ],
      "metadata": {
        "colab": {
          "base_uri": "https://localhost:8080/",
          "height": 0
        },
        "id": "Tz_7jk-1ypmJ",
        "outputId": "2644a58e-4a49-4261-8d8a-31e63d5b5d53"
      },
      "execution_count": 4,
      "outputs": [
        {
          "output_type": "stream",
          "name": "stdout",
          "text": [
            "120\n"
          ]
        }
      ]
    },
    {
      "cell_type": "code",
      "source": [
        "def average_grade(students, grades):\n",
        "    \"\"\"Calculate the average grade of given students.\"\"\"\n",
        "    total = 0\n",
        "    count = 0\n",
        "\n",
        "    for student in students:\n",
        "        if student in grades:  # Ensure the student exists in the grades dictionary\n",
        "            total += grades[student]\n",
        "            count += 1\n",
        "\n",
        "    return total / count if count > 0 else None  # Return None if no students are found\n",
        "\n",
        "# Example usage\n",
        "students = (\"Alice\", \"Bob\", \"Charlie\")\n",
        "grades = {\"Alice\": 85, \"Bob\": 90, \"Charlie\": 78, \"David\": 88}\n",
        "\n",
        "average = average_grade(students, grades)\n",
        "print(f\"Average grade: {average}\")  # Output: 84.33"
      ],
      "metadata": {
        "colab": {
          "base_uri": "https://localhost:8080/",
          "height": 0
        },
        "id": "P05HubDE3Xup",
        "outputId": "5c950a0e-e811-44de-ac76-7c7628edb668"
      },
      "execution_count": 25,
      "outputs": [
        {
          "output_type": "stream",
          "name": "stdout",
          "text": [
            "Average grade: 84.33333333333333\n"
          ]
        }
      ]
    },
    {
      "cell_type": "code",
      "source": [
        "f = open(\"/students.txt\", \"r\")\n",
        "\n",
        "print(f.read())\n"
      ],
      "metadata": {
        "colab": {
          "base_uri": "https://localhost:8080/",
          "height": 0
        },
        "id": "buN8rlgnA1dq",
        "outputId": "35542a92-6e82-4e5d-9a16-f0f83cd14e35"
      },
      "execution_count": 28,
      "outputs": [
        {
          "output_type": "stream",
          "name": "stdout",
          "text": [
            "student_dict\tname\tgrade\n",
            "1\tlist\t40\n",
            "2\talex\t50\n",
            "3\tJohn\t60\n",
            "4\texe\t70\n",
            "5\tken\t80\n",
            "6\teve\t90\n",
            "7\tgabon\t55\n",
            "8\tjames\t85\n",
            "9\tjoon\t75\n",
            "10\tpeter\t65\n",
            "11\tbathlemew\t40\n",
            "\n"
          ]
        }
      ]
    },
    {
      "cell_type": "code",
      "source": [
        "#data.txt\n",
        "# Open the file in append mode\n",
        "file = open('students.txt', 'a')\n",
        "\n",
        "# Creating a dictionary with names as keys and grades as values\n",
        "grades_dict = {\n",
        "    \"list\": 40,\n",
        "    \"John\": 60,\n",
        "    \"exe\": 70,\n",
        "    \"gabon\": 55,\n",
        "    \"james\": 85,\n",
        "     \"joon\": 75,\n",
        "     \"peter\": 65,\n",
        "     \"bathlemew\": 40\n",
        "}\n",
        "\n",
        "\n",
        "\n",
        "# Accessing a grade\n",
        "print(grades_dict[\"John\"])  # Output: 60\n",
        "\n",
        "\n",
        "grades_dict[\"Eve\"] = 71  # Adding a new entry\n",
        "print(grades_dict)\n",
        "\n",
        "\n",
        "# Calculate the average grade\n",
        "average_grade = sum(grades_dict.values()) / len(grades_dict)\n",
        "\n",
        "print(f\"Average grade: {average_grade:.2f}\")  # Format to two decimal places // average grade = 62.33\n",
        "\n",
        "# Find students who scored above the average\n",
        "above_average_students = [name for name, grade in grades_dict.items() if grade > average_grade]\n",
        "\n",
        "print(\"Students who scored above the average:\", above_average_students) # Students who scored above the average: ['exe', 'james', 'joon', 'peter', 'Eve']"
      ],
      "metadata": {
        "colab": {
          "base_uri": "https://localhost:8080/",
          "height": 0
        },
        "id": "GG9JQg7qKPdi",
        "outputId": "d9da4c5a-3041-412d-a941-7771d2135a43"
      },
      "execution_count": 65,
      "outputs": [
        {
          "output_type": "stream",
          "name": "stdout",
          "text": [
            "60\n",
            "{'list': 40, 'John': 60, 'exe': 70, 'gabon': 55, 'james': 85, 'joon': 75, 'peter': 65, 'bathlemew': 40, 'Eve': 71}\n",
            "Average grade: 62.33\n",
            "Students who scored above the average: ['exe', 'james', 'joon', 'peter', 'Eve']\n"
          ]
        }
      ]
    }
  ]
}